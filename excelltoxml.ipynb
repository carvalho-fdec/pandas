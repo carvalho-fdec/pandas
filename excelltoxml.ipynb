{
  "nbformat": 4,
  "nbformat_minor": 0,
  "metadata": {
    "colab": {
      "name": "excelltoxml.ipynb",
      "provenance": [],
      "toc_visible": true,
      "mount_file_id": "1ZKuBx9EeKn1vqhnPxX0GG1xKOXOt99P6",
      "authorship_tag": "ABX9TyMZB+3R1biKap6dCF4F9wig",
      "include_colab_link": true
    },
    "kernelspec": {
      "name": "python3",
      "display_name": "Python 3"
    },
    "language_info": {
      "name": "python"
    }
  },
  "cells": [
    {
      "cell_type": "markdown",
      "metadata": {
        "id": "view-in-github",
        "colab_type": "text"
      },
      "source": [
        "<a href=\"https://colab.research.google.com/github/carvalho-fdec/pandas/blob/main/excelltoxml.ipynb\" target=\"_parent\"><img src=\"https://colab.research.google.com/assets/colab-badge.svg\" alt=\"Open In Colab\"/></a>"
      ]
    },
    {
      "cell_type": "code",
      "metadata": {
        "id": "Q2KnPn0A7J8X"
      },
      "source": [
        "#convert an csv file to a xml file\n",
        "\n",
        "#import csv\n",
        "\n",
        "# with open('dados.csv', newline='') as csvfile:\n",
        "#  text = csv.reader(csvfile, delimiter=',', quotechar='|')\n",
        "#  for row in text:\n",
        "#    print(', '.join(row))\n",
        "\n",
        "import pandas as pd\n",
        "\n",
        "df = pd.read_csv('dados.csv', sep=';', dtype={'phonenumber2': str})\n",
        "df.head()\n",
        "\n",
        "def convert_row(row):\n",
        "   return \"\"\"\\t<Contact>\n",
        "\\t\\t<id>%s</id>\n",
        "\\t\\t<FirstName>%s</FirstName>\n",
        "\\t\\t<Frequent>0</Frequent>\n",
        "\\t\\t<Phone type=\"Work\">\n",
        "\\t\\t\\t<phonenumber>%s</phonenumber>\n",
        "\\t\\t\\t<accountindex>1</accountindex>\n",
        "\\t\\t</Phone>\n",
        "\\t\\t<Phone type=\"Cell\">\n",
        "\\t\\t\\t<phonenumber>%s</phonenumber>\n",
        "\\t\\t\\t<accountindex>1</accountindex>\n",
        "\\t\\t</Phone>\n",
        "\\t\\t<Primary>0</Primary>\n",
        "\\t</Contact>\"\"\" % (row.id, row.FirstName, row.phonenumber1, row.phonenumber2)\n",
        "\n",
        "print ('\\n'.join(df.apply(convert_row, axis=1)))\n"
      ],
      "execution_count": null,
      "outputs": []
    }
  ]
}